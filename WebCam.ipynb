{
 "cells": [
  {
   "cell_type": "code",
   "execution_count": 4,
   "id": "6619f635-dc25-4577-882d-23edb504ccbe",
   "metadata": {},
   "outputs": [
    {
     "name": "stderr",
     "output_type": "stream",
     "text": [
      "\n",
      "[notice] A new release of pip is available: 25.0.1 -> 25.1.1\n",
      "[notice] To update, run: python.exe -m pip install --upgrade pip\n"
     ]
    },
    {
     "name": "stdout",
     "output_type": "stream",
     "text": [
      "Defaulting to user installation because normal site-packages is not writeable\n",
      "Requirement already satisfied: opencv-python in c:\\users\\chandan kumar\\appdata\\roaming\\python\\python312\\site-packages (4.11.0.86)\n",
      "Requirement already satisfied: numpy>=1.21.2 in c:\\programdata\\anaconda3\\lib\\site-packages (from opencv-python) (1.26.4)\n"
     ]
    }
   ],
   "source": [
    "!pip install opencv-python\n",
    "import cv2 as cv\n",
    "import matplotlib.pyplot as plt\n",
    "import numpy as np"
   ]
  },
  {
   "cell_type": "code",
   "execution_count": 7,
   "id": "06783a86-74b7-43aa-9714-7fa165c3682f",
   "metadata": {},
   "outputs": [],
   "source": [
    "##  for accessing camera\n",
    "cam = cv.VideoCapture(0)\n",
    "while True:\n",
    "    _,img = cam.read()\n",
    "    cv.imshow(\"Frame\" ,img)\n",
    "    key = cv.waitKey(30)\n",
    "    if(key == 27):\n",
    "        cam.release()\n",
    "        break"
   ]
  },
  {
   "cell_type": "code",
   "execution_count": 8,
   "id": "f2c0f69c-72b6-495c-a67b-04547937a75a",
   "metadata": {},
   "outputs": [],
   "source": [
    "cam = cv.VideoCapture(0)\n",
    "while True:\n",
    "    _,img = cam.read()\n",
    "    flip = cv.flip(img ,0)\n",
    "    cv.imshow(\"Frame\" ,img)\n",
    "    cv.imshow(\"Frame1\" ,flip)\n",
    "    key = cv.waitKey(30)\n",
    "    if(key == 27):\n",
    "        cam.release()\n",
    "        break\n"
   ]
  },
  {
   "cell_type": "code",
   "execution_count": null,
   "id": "cf8ec7e2-428a-4e9f-b3b0-dafa6fb7f70b",
   "metadata": {},
   "outputs": [],
   "source": [
    "cam.shape"
   ]
  },
  {
   "cell_type": "code",
   "execution_count": 6,
   "id": "d63b0892-074d-4150-854e-235139ad0057",
   "metadata": {},
   "outputs": [],
   "source": [
    "cam = cv.VideoCapture(0)\n",
    "\n",
    "while True:\n",
    "\n",
    "    _, img = cam.read()\n",
    "    img = cv.flip(img, 1) \n",
    "\n",
    "    frame = img[ 100:500 , 400:800 , : ]\n",
    "    \n",
    "    cv.imshow(\"Frame\",img)\n",
    "    cv.imshow(\"Cropped\",frame)\n",
    "    \n",
    "    key = cv.waitKey(20)\n",
    "    \n",
    "    \n",
    "    if (key == 27):\n",
    "        cam.release()\n",
    "        break"
   ]
  },
  {
   "cell_type": "code",
   "execution_count": null,
   "id": "7b1ffc85-516d-4732-be19-ac0c5b3eb61e",
   "metadata": {},
   "outputs": [],
   "source": []
  }
 ],
 "metadata": {
  "kernelspec": {
   "display_name": "Python [conda env:base] *",
   "language": "python",
   "name": "conda-base-py"
  },
  "language_info": {
   "codemirror_mode": {
    "name": "ipython",
    "version": 3
   },
   "file_extension": ".py",
   "mimetype": "text/x-python",
   "name": "python",
   "nbconvert_exporter": "python",
   "pygments_lexer": "ipython3",
   "version": "3.12.7"
  }
 },
 "nbformat": 4,
 "nbformat_minor": 5
}
