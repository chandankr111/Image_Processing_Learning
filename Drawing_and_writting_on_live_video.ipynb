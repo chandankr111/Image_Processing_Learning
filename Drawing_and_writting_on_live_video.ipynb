{
 "cells": [
  {
   "cell_type": "code",
   "execution_count": 21,
   "id": "556d5882-8c0f-49f4-94d5-992d4c6efc00",
   "metadata": {},
   "outputs": [
    {
     "name": "stdout",
     "output_type": "stream",
     "text": [
      "Requirement already satisfied: opencv-python in c:\\machine_learning\\projects\\.conda\\lib\\site-packages (4.11.0.86)\n",
      "Requirement already satisfied: numpy>=1.21.2 in c:\\machine_learning\\projects\\.conda\\lib\\site-packages (from opencv-python) (2.2.5)\n"
     ]
    }
   ],
   "source": [
    "!pip install opencv-python"
   ]
  },
  {
   "cell_type": "code",
   "execution_count": 17,
   "id": "f2231565-2931-4c70-8e80-16d1009a7359",
   "metadata": {},
   "outputs": [],
   "source": [
    "import cv2 as cv\n",
    "import numpy as np \n",
    "import matplotlib.pyplot as plt"
   ]
  },
  {
   "cell_type": "markdown",
   "id": "39d36364-aa5f-435f-b0af-1e1ef63da097",
   "metadata": {},
   "source": [
    "## 1. Drawing Rectangle , circle"
   ]
  },
  {
   "cell_type": "code",
   "execution_count": 12,
   "id": "d0185a20-e468-4c23-95f2-a4857bb9ea62",
   "metadata": {},
   "outputs": [],
   "source": [
    "cam = cv.VideoCapture(0)\n",
    "while(True):\n",
    "    _,img = cam.read()\n",
    "    img = cv.flip(img , 1)\n",
    "    img = cv.rectangle(img , (200,200) , (400 , 400), (1 , 45 ,67)  ,10)\n",
    "    img = cv.rectangle(img , (195,200) , (395 , 400), (1 , 0 ,7)  ,5)\n",
    "    img = cv.rectangle(img , (2,200) , (4 , 400), (1 , 45 ,67)  ,7)\n",
    "    # circle\n",
    "    img = cv.circle(img , (600,300) ,100 , (255 , 255 ,255)  ,3)\n",
    "    cv.imshow(\"Frame\" ,img)\n",
    "    key = cv.waitKey(30)\n",
    "    if(key == 27 ):\n",
    "        cam.release()\n",
    "        break\n",
    "    \n",
    "    "
   ]
  },
  {
   "cell_type": "markdown",
   "id": "8b517c32-de11-4183-b999-023ae7514317",
   "metadata": {},
   "source": [
    "## 2. circle"
   ]
  },
  {
   "cell_type": "code",
   "execution_count": 13,
   "id": "c885eb6e-6865-4bb0-bbce-2debb18d245c",
   "metadata": {},
   "outputs": [],
   "source": [
    "cam = cv.VideoCapture(0)\n",
    "while(True):\n",
    "    _,img = cam.read()\n",
    "    img = cv.flip(img , 1)\n",
    "    # img = cv.rectangle(img , (200,200) , (400 , 400), (1 , 45 ,67)  ,10)\n",
    "    # img = cv.rectangle(img , (195,200) , (395 , 400), (1 , 0 ,7)  ,5)\n",
    "    # img = cv.rectangle(img , (2,200) , (4 , 400), (1 , 45 ,67)  ,7)\n",
    "    # circle\n",
    "    img = cv.circle(img , (320,240) ,350 , (5 , 5 ,25)  ,150)\n",
    "    cv.imshow(\"Frame\" ,img)\n",
    "    key = cv.waitKey(30)\n",
    "    if(key == 27 ):\n",
    "        cam.release()\n",
    "        break\n",
    "    \n",
    "    "
   ]
  },
  {
   "cell_type": "code",
   "execution_count": 8,
   "id": "7d5d05f1-561d-4c16-977d-5c6418866341",
   "metadata": {},
   "outputs": [
    {
     "data": {
      "text/plain": [
       "(480, 640, 3)"
      ]
     },
     "execution_count": 8,
     "metadata": {},
     "output_type": "execute_result"
    }
   ],
   "source": [
    "img.shape"
   ]
  },
  {
   "cell_type": "markdown",
   "id": "1b9e1bf0-60fb-42d4-91af-d596052f8fc6",
   "metadata": {},
   "source": [
    "## writting text"
   ]
  },
  {
   "cell_type": "code",
   "execution_count": 25,
   "id": "c5bd6c46-151a-4741-8a0c-26ccaffb9f15",
   "metadata": {},
   "outputs": [],
   "source": [
    "cam = cv.VideoCapture(0)\n",
    "while(True):\n",
    "    _,img = cam.read()\n",
    "    img = cv.flip(img , 1)\n",
    "   \n",
    "    #writting text\n",
    "    img = cv.putText(img, 'Chandan' , (320 , 240) , cv.FONT_HERSHEY_PLAIN , 1 , (13 ,3 , 45),2 )\n",
    "    # circle\n",
    "    img = cv.circle(img , (320,240) ,350 , (5 , 5 ,25)  ,150)\n",
    "    cv.imshow(\"Frame\" ,img)\n",
    "    key = cv.waitKey(1)\n",
    "    if(key == 27 ):\n",
    "        cam.release()\n",
    "        break\n",
    "    \n",
    "    "
   ]
  },
  {
   "cell_type": "code",
   "execution_count": null,
   "id": "716bda67-4986-4760-92f3-f2aae982ce9e",
   "metadata": {},
   "outputs": [],
   "source": []
  }
 ],
 "metadata": {
  "kernelspec": {
   "display_name": "Python [conda env:.conda]",
   "language": "python",
   "name": "conda-env-.conda-py"
  },
  "language_info": {
   "codemirror_mode": {
    "name": "ipython",
    "version": 3
   },
   "file_extension": ".py",
   "mimetype": "text/x-python",
   "name": "python",
   "nbconvert_exporter": "python",
   "pygments_lexer": "ipython3",
   "version": "3.11.11"
  }
 },
 "nbformat": 4,
 "nbformat_minor": 5
}
