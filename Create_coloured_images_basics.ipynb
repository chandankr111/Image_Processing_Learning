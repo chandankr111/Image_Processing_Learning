{
  "nbformat": 4,
  "nbformat_minor": 0,
  "metadata": {
    "colab": {
      "provenance": [],
      "authorship_tag": "ABX9TyPokQT+eC+x0l4fRnWmpZCq",
      "include_colab_link": true
    },
    "kernelspec": {
      "name": "python3",
      "display_name": "Python 3"
    },
    "language_info": {
      "name": "python"
    }
  },
  "cells": [
    {
      "cell_type": "markdown",
      "metadata": {
        "id": "view-in-github",
        "colab_type": "text"
      },
      "source": [
        "<a href=\"https://colab.research.google.com/github/chandankr111/Image_Processing_Learning/blob/main/Create_coloured_images_basics.ipynb\" target=\"_parent\"><img src=\"https://colab.research.google.com/assets/colab-badge.svg\" alt=\"Open In Colab\"/></a>"
      ]
    },
    {
      "cell_type": "code",
      "execution_count": 3,
      "metadata": {
        "id": "Oy8jT16i0YpO"
      },
      "outputs": [],
      "source": [
        "import cv2 as cv\n",
        "import numpy as np\n",
        "import matplotlib.pyplot as plt\n"
      ]
    },
    {
      "cell_type": "code",
      "source": [
        "[R , G , B ]\n",
        "[255 , 0 , 0] - Red\n",
        "[0 , 255 , 0] - Green\n",
        "[0 , 0 , 255] - Red"
      ],
      "metadata": {
        "colab": {
          "base_uri": "https://localhost:8080/",
          "height": 200
        },
        "id": "fpevbh6o0l5F",
        "outputId": "1623c6b1-7fa9-4c79-e891-e250815baf43"
      },
      "execution_count": 4,
      "outputs": [
        {
          "output_type": "error",
          "ename": "NameError",
          "evalue": "name 'R' is not defined",
          "traceback": [
            "\u001b[0;31m---------------------------------------------------------------------------\u001b[0m",
            "\u001b[0;31mNameError\u001b[0m                                 Traceback (most recent call last)",
            "\u001b[0;32m<ipython-input-4-de4a2c045012>\u001b[0m in \u001b[0;36m<cell line: 0>\u001b[0;34m()\u001b[0m\n\u001b[0;32m----> 1\u001b[0;31m \u001b[0;34m[\u001b[0m\u001b[0mR\u001b[0m \u001b[0;34m,\u001b[0m \u001b[0mG\u001b[0m \u001b[0;34m,\u001b[0m \u001b[0mB\u001b[0m \u001b[0;34m]\u001b[0m\u001b[0;34m\u001b[0m\u001b[0;34m\u001b[0m\u001b[0m\n\u001b[0m\u001b[1;32m      2\u001b[0m \u001b[0;34m[\u001b[0m\u001b[0;36m255\u001b[0m \u001b[0;34m,\u001b[0m \u001b[0;36m0\u001b[0m \u001b[0;34m,\u001b[0m \u001b[0;36m0\u001b[0m\u001b[0;34m]\u001b[0m \u001b[0;34m-\u001b[0m \u001b[0mRed\u001b[0m\u001b[0;34m\u001b[0m\u001b[0;34m\u001b[0m\u001b[0m\n\u001b[1;32m      3\u001b[0m \u001b[0;34m[\u001b[0m\u001b[0;36m0\u001b[0m \u001b[0;34m,\u001b[0m \u001b[0;36m255\u001b[0m \u001b[0;34m,\u001b[0m \u001b[0;36m0\u001b[0m\u001b[0;34m]\u001b[0m \u001b[0;34m-\u001b[0m \u001b[0mGreen\u001b[0m\u001b[0;34m\u001b[0m\u001b[0;34m\u001b[0m\u001b[0m\n\u001b[1;32m      4\u001b[0m \u001b[0;34m[\u001b[0m\u001b[0;36m0\u001b[0m \u001b[0;34m,\u001b[0m \u001b[0;36m0\u001b[0m \u001b[0;34m,\u001b[0m \u001b[0;36m255\u001b[0m\u001b[0;34m]\u001b[0m \u001b[0;34m-\u001b[0m \u001b[0mRed\u001b[0m\u001b[0;34m\u001b[0m\u001b[0;34m\u001b[0m\u001b[0m\n",
            "\u001b[0;31mNameError\u001b[0m: name 'R' is not defined"
          ]
        }
      ]
    },
    {
      "cell_type": "markdown",
      "source": [],
      "metadata": {
        "id": "8mEItXMW1pq7"
      }
    },
    {
      "cell_type": "markdown",
      "source": [
        "### 1. Creating Red Images"
      ],
      "metadata": {
        "id": "-hmB3Tdc1srb"
      }
    },
    {
      "cell_type": "code",
      "source": [
        "arr = np.array([[[255 , 0 , 0] , [255 , 0 , 0] , [255 , 0 , 0] ],\n",
        "                [[255 , 0 , 0] , [255 , 0 , 0] , [255 , 0 , 0] ] ,\n",
        "                [[255 , 0 , 0] , [255 , 0 , 0] , [255 , 0 , 0] ]])\n",
        "plt.imshow(arr)\n",
        "cv.imwrite(\"Red.png\" , arr)"
      ],
      "metadata": {
        "colab": {
          "base_uri": "https://localhost:8080/",
          "height": 453
        },
        "id": "sOabKNxX0-s-",
        "outputId": "7f93a1a9-f204-4bef-95c2-e69cd1422d02"
      },
      "execution_count": 5,
      "outputs": [
        {
          "output_type": "execute_result",
          "data": {
            "text/plain": [
              "True"
            ]
          },
          "metadata": {},
          "execution_count": 5
        },
        {
          "output_type": "display_data",
          "data": {
            "text/plain": [
              "<Figure size 640x480 with 1 Axes>"
            ],
            "image/png": "[encoded data removed]"
          },
          "metadata": {}
        }
      ]
    },
    {
      "cell_type": "markdown",
      "source": [],
      "metadata": {
        "id": "vEYZMkiC149v"
      }
    },
    {
      "cell_type": "markdown",
      "source": [
        "### 1. Creating Red Images"
      ],
      "metadata": {
        "id": "vJ2YSwF31_rS"
      }
    },
    {
      "cell_type": "code",
      "source": [
        "arr = np.array([[[0 , 255 , 0] , [0 , 255 , 0] , [0 ,255 , 0] ],\n",
        "                [[0 , 255 , 0] , [0 , 255 , 0] , [0 ,255 , 0]  ] ,\n",
        "                [[0 , 255 , 0] , [0 , 255 , 0] , [0 ,255 , 0]  ]])\n",
        "plt.imshow(arr)\n",
        "cv.imwrite(\"Green.png\" , arr)"
      ],
      "metadata": {
        "colab": {
          "base_uri": "https://localhost:8080/",
          "height": 453
        },
        "id": "nI-vQsIL1jpW",
        "outputId": "be1958d7-8ebc-423c-d0d1-d97112f3b0b2"
      },
      "execution_count": 6,
      "outputs": [
        {
          "output_type": "execute_result",
          "data": {
            "text/plain": [
              "True"
            ]
          },
          "metadata": {},
          "execution_count": 6
        },
        {
          "output_type": "display_data",
          "data": {
            "text/plain": [
              "<Figure size 640x480 with 1 Axes>"
            ],
            "image/png": "[encoded data removed]"
          },
          "metadata": {}
        }
      ]
    },
    {
      "cell_type": "code",
      "source": [
        "arr = np.array([[[0 , 0 , 255] , [0 , 0 , 255] , [0 ,0 , 255] ],\n",
        "                [[0 , 0 , 255] , [0 , 0 , 255] , [0 ,0 , 255] ] ,\n",
        "                [[0 , 0 , 255] , [0 , 0 , 255] , [0 ,0 , 255] ]])\n",
        "plt.imshow(arr)\n",
        "cv.imwrite(\"Blue.png\" , arr)"
      ],
      "metadata": {
        "colab": {
          "base_uri": "https://localhost:8080/",
          "height": 453
        },
        "id": "_63oOBYo2Ys0",
        "outputId": "42e31ebc-2d77-4e21-9bf7-c27fa0d5bc31"
      },
      "execution_count": 7,
      "outputs": [
        {
          "output_type": "execute_result",
          "data": {
            "text/plain": [
              "True"
            ]
          },
          "metadata": {},
          "execution_count": 7
        },
        {
          "output_type": "display_data",
          "data": {
            "text/plain": [
              "<Figure size 640x480 with 1 Axes>"
            ],
            "image/png": "[encoded data removed]"
          },
          "metadata": {}
        }
      ]
    },
    {
      "cell_type": "code",
      "source": [
        "arr = np.array([[[0 , 0 , 255] , [0 , 0 , 255] , [0 ,0 , 255] ],\n",
        "                [[0 , 255 , 0] , [0 , 255 , 0] , [0 ,255, 0] ] ,\n",
        "                [[0 , 0 , 255] , [0 , 0 , 255] , [0 ,0 , 255] ]])\n",
        "plt.imshow(arr)\n",
        "cv.imwrite(\"Bl.png\" , arr)"
      ],
      "metadata": {
        "colab": {
          "base_uri": "https://localhost:8080/",
          "height": 453
        },
        "id": "WHF7yvOK2q0a",
        "outputId": "f2108b4b-bc30-40d9-bd2c-0d67b78e68d3"
      },
      "execution_count": 8,
      "outputs": [
        {
          "output_type": "execute_result",
          "data": {
            "text/plain": [
              "True"
            ]
          },
          "metadata": {},
          "execution_count": 8
        },
        {
          "output_type": "display_data",
          "data": {
            "text/plain": [
              "<Figure size 640x480 with 1 Axes>"
            ],
            "image/png": "[encoded data removed]"
          },
          "metadata": {}
        }
      ]
    },
    {
      "cell_type": "code",
      "source": [
        "arr = np.array([[[30 , 0 , 0] , [320, 0 , 255] , [29 ,0 , 255] ],\n",
        "                [[20, 255 , 0] , [10, 255 , 0] , [36 ,255, 0] ] ,\n",
        "                [[10 , 0 , 255] , [67 , 0 , 255] , [67 ,0 , 255] ]])\n",
        "plt.imshow(arr)\n",
        "cv.imwrite(\"Bl.png\" , arr)"
      ],
      "metadata": {
        "id": "vm6-d05y3bEU",
        "colab": {
          "base_uri": "https://localhost:8080/",
          "height": 491
        },
        "outputId": "23340c66-73e5-4fde-a99a-c6d57f6fc0a7"
      },
      "execution_count": 9,
      "outputs": [
        {
          "output_type": "stream",
          "name": "stderr",
          "text": [
            "WARNING:matplotlib.image:Clipping input data to the valid range for imshow with RGB data ([0..1] for floats or [0..255] for integers). Got range [0..320].\n"
          ]
        },
        {
          "output_type": "execute_result",
          "data": {
            "text/plain": [
              "True"
            ]
          },
          "metadata": {},
          "execution_count": 9
        },
        {
          "output_type": "display_data",
          "data": {
            "text/plain": [
              "<Figure size 640x480 with 1 Axes>"
            ],
            "image/png": "[encoded data removed]"
          },
          "metadata": {}
        }
      ]
    },
    {
      "cell_type": "markdown",
      "source": [
        "## Creating Dense Image"
      ],
      "metadata": {
        "id": "MDTRq5L_kaMV"
      }
    },
    {
      "cell_type": "code",
      "source": [
        "img  = []\n",
        "for i in range(256):\n",
        "    t = []\n",
        "    for j in range(256):\n",
        "        t.append([i , j ,0])\n",
        "\n",
        "    img.append(t)\n",
        "img = np.array(img)"
      ],
      "metadata": {
        "id": "S_7fn2aajjEQ"
      },
      "execution_count": 22,
      "outputs": []
    },
    {
      "cell_type": "code",
      "source": [
        "img.shape"
      ],
      "metadata": {
        "colab": {
          "base_uri": "https://localhost:8080/"
        },
        "id": "qtZw_ZAalgyx",
        "outputId": "eef70a14-6a18-4d23-85a5-4a3b21fd2c72"
      },
      "execution_count": 23,
      "outputs": [
        {
          "output_type": "execute_result",
          "data": {
            "text/plain": [
              "(256, 256, 3)"
            ]
          },
          "metadata": {},
          "execution_count": 23
        }
      ]
    },
    {
      "cell_type": "code",
      "source": [
        "plt.imshow(img)"
      ],
      "metadata": {
        "colab": {
          "base_uri": "https://localhost:8080/",
          "height": 453
        },
        "id": "6yFLcuXLm3K4",
        "outputId": "01e3adb6-b129-4d6c-fa37-bd0b40cfec00"
      },
      "execution_count": 25,
      "outputs": [
        {
          "output_type": "execute_result",
          "data": {
            "text/plain": [
              "<matplotlib.image.AxesImage at 0x7a482c621250>"
            ]
          },
          "metadata": {},
          "execution_count": 25
        },
        {
          "output_type": "display_data",
          "data": {
            "text/plain": [
              "<Figure size 640x480 with 1 Axes>"
            ],
            "image/png": "[encoded data removed]"
          },
          "metadata": {}
        }
      ]
    },
    {
      "cell_type": "code",
      "source": [],
      "metadata": {
        "id": "UVwQSHdinH7t"
      },
      "execution_count": null,
      "outputs": []
    }
  ]
}