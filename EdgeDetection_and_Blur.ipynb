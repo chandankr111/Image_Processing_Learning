{
 "cells": [
  {
   "cell_type": "code",
   "execution_count": 1,
   "id": "4158e398-30f4-409c-a79b-53bac471f74d",
   "metadata": {},
   "outputs": [],
   "source": [
    "import cv2 as cv \n",
    "import matplotlib.pyplot as plt\n",
    "import numpy as np"
   ]
  },
  {
   "cell_type": "code",
   "execution_count": 2,
   "id": "4946639e-8b1e-4a85-8bba-7278f8555830",
   "metadata": {},
   "outputs": [],
   "source": [
    "cam = cv.VideoCapture(0)\n",
    "while(True):\n",
    "    _,img = cam.read();\n",
    "    img = cv.flip(img ,1)\n",
    "    edge1 = cv.Canny(img , 0 , 50 )\n",
    "    # edge2= cv.Canny(img , 50 , 100 )\n",
    "    # edge3 = cv.Canny(img , 100 , 150 )\n",
    "    # edge4 = cv.Canny(img , 150 , 200 )\n",
    "    cv.imshow(\"Frame\" , img )\n",
    "    cv.imshow(\"Edges1\" , edge1 )\n",
    "    # cv.imshow(\"Edges2\" , edge2 )\n",
    "    # cv.imshow(\"Edges3\" , edge3 )\n",
    "    # cv.imshow(\"Edges4\" , edge4 )\n",
    "    blr = cv.blur()\n",
    "    if cv.waitKey(10) == 27:\n",
    "        cam.release()\n",
    "        break;\n",
    "    "
   ]
  },
  {
   "cell_type": "markdown",
   "id": "34347145-4df0-4a42-85be-a487201b5b54",
   "metadata": {},
   "source": [
    "## RealTime blur"
   ]
  },
  {
   "cell_type": "code",
   "execution_count": 3,
   "id": "c1080eb1-328f-4383-933a-e10fd327dff9",
   "metadata": {},
   "outputs": [],
   "source": [
    " cam = cv.VideoCapture(0)\n",
    "while(True):\n",
    "    _,img = cam.read();\n",
    "    img = cv.flip(img ,1)\n",
    "   \n",
    "   \n",
    "    blr1 = cv.blur( img , (8,8))\n",
    "    # blr2 = cv.blur( img , (4,4))\n",
    "    # blr3 = cv.blur( img , (8,8))\n",
    "    # blr4 = cv.blur( img , (16,16))\n",
    "    # blr4 = cv.blur( img , (32,32))\n",
    "\n",
    "    edge = cv.Canny( img , 100,200 )\n",
    "\n",
    "    final = cv.Canny(blr1 , 100 ,200  )\n",
    "\n",
    "    cv.imshow(\"Frame\" , edge)\n",
    "    cv.imshow(\"final\" , final)\n",
    "    # cv.imshow(\"blr2\" , blr2)\n",
    "    # cv.imshow(\"blr4\" , blr3)\n",
    "    # cv.imshow(\"blr5\" , blr4)\n",
    "\n",
    "    ## edge detection on blur \n",
    "    \n",
    "    \n",
    "    if cv.waitKey(10) == 27:\n",
    "        cam.release()\n",
    "        break;\n",
    "    \n"
   ]
  },
  {
   "cell_type": "code",
   "execution_count": 15,
   "id": "63880c69-0d1b-483b-9efa-dd525053310a",
   "metadata": {},
   "outputs": [],
   "source": [
    "cam.release()"
   ]
  },
  {
   "cell_type": "code",
   "execution_count": null,
   "id": "4165fdc0-4983-40e3-bb88-0bdf68961bae",
   "metadata": {},
   "outputs": [],
   "source": []
  }
 ],
 "metadata": {
  "kernelspec": {
   "display_name": "Python [conda env:base] *",
   "language": "python",
   "name": "conda-base-py"
  },
  "language_info": {
   "codemirror_mode": {
    "name": "ipython",
    "version": 3
   },
   "file_extension": ".py",
   "mimetype": "text/x-python",
   "name": "python",
   "nbconvert_exporter": "python",
   "pygments_lexer": "ipython3",
   "version": "3.12.7"
  }
 },
 "nbformat": 4,
 "nbformat_minor": 5
}
